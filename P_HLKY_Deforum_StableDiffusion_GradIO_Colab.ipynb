{
  "cells": [
    {
      "cell_type": "markdown",
      "metadata": {
        "id": "view-in-github",
        "colab_type": "text"
      },
      "source": [
        "<a href=\"https://colab.research.google.com/github/XmYx/stable-diffusion-gradio-anim-opt/blob/main/P_HLKY_Deforum_StableDiffusion_GradIO_Colab.ipynb\" target=\"_parent\"><img src=\"https://colab.research.google.com/assets/colab-badge.svg\" alt=\"Open In Colab\"/></a>"
      ]
    },
    {
      "cell_type": "markdown",
      "metadata": {
        "id": "mLTb-y0dr8Yu"
      },
      "source": [
        "#Stable Diffusion GUI v0.3a (3D/2D Anim, Batch, Interpolation, Variation)\n",
        "\n",
        "requirements:\n",
        "\n",
        "              - account at ngrok.com\n",
        "              - token from https://dashboard.ngrok.com/get-started/your-authtoken\n",
        "              - sd-v1-4.ckpt on your Google Drive (Only directory path needed) \n",
        "              - sd-clip-vit-l14-img-embed_ema_only.ckpt on your Google Drive (Use Filename as well in the settings)\n",
        "              - Variations Model is optional, turn the Skip Switch on to skip loading it\n",
        "\n",
        "Link to model: https://huggingface.co/CompVis/stable-diffusion-v-1-4-original\n",
        "Link to Variations Model: https://huggingface.co/lambdalabs/stable-diffusion-image-conditioned/blob/main/sd-clip-vit-l14-img-embed_ema_only.ckpt\n",
        "\n",
        "\n",
        "Please find expanded explanation at GitHub:\n",
        "https://github.com/XmYx/stable-diffusion-gradio-anim-opt\n",
        "\n",
        "Features: 8192 x 8192 max res (really slow) and 8x Upscale without running out of memory. Featuring all features of Deforum's Notebook, plus Variations, Inpainting, and Noodle Soup Prompts.\n"
      ]
    },
    {
      "cell_type": "markdown",
      "source": [],
      "metadata": {
        "id": "gi5Z-N2eJA6o"
      }
    },
    {
      "cell_type": "markdown",
      "source": [
        "#Setup Optimized Anim GUI with Variations and Noodle Soup"
      ],
      "metadata": {
        "id": "-hKSuSX4nWM5"
      }
    },
    {
      "cell_type": "code",
      "source": [
        "#@markdown **NGROK TOKEN**\n",
        "\n",
        "ngrok_token = \"\" #@param {type:\"string\"}\n",
        "\n",
        "\n",
        "from google.colab import drive\n",
        "drive.mount('/gdrive')\n",
        "# 2 - Download Ngrok\n",
        "\n",
        "! wget -q -c -nc https://bin.equinox.io/c/4VmDzA7iaHb/ngrok-stable-linux-amd64.zip\n",
        "! unzip -qq -n ngrok-stable-linux-amd64.zip\n",
        "\n",
        "# 3 - setup Ngrok - authtoken\n",
        "\n",
        "#Ask token\n",
        "print(\"Get your authtoken from https://dashboard.ngrok.com/auth\")\n",
        "import getpass\n",
        "if ngrok_token == \"\":\n",
        "    authtoken = getpass.getpass()\n",
        "else:\n",
        "    authtoken = ngrok_token\n",
        "\n",
        "#Create tunnel\n",
        "get_ipython().system_raw('./ngrok authtoken $authtoken && ./ngrok http 7860 &')\n",
        "\n",
        "!pip install torch==1.12.1+cu113 torchvision==0.13.1+cu113 --extra-index-url https://download.pytorch.org/whl/cu113\n",
        "!pip install omegaconf==2.2.3 einops==0.4.1 pytorch-lightning==1.7.4 torchmetrics==0.9.3 torchtext==0.13.1 transformers==4.21.2 kornia==0.6.7 gradio\n",
        "!pip install git+https://github.com/TencentARC/GFPGAN#egg=GFPGAN\n",
        "%mkdir /content/models\n",
        "%mkdir /content/models/pretrained\n",
        "!wget -N https://github.com/TencentARC/GFPGAN/releases/download/v1.3.0/GFPGANv1.3.pth -P /content/models\n",
        "!wget -N https://github.com/intel-isl/DPT/releases/download/1_0/dpt_large-midas-2f21e586.pt -P /content/models\n",
        "!wget -N https://cloudflare-ipfs.com/ipfs/Qmd2mMnDLWePKmgfS8m6ntAg4nhV5VkUyAydYBp8cWWeB7/AdaBins_nyu.pt -P /content/models/pretrained\n",
        "%cd /content\n",
        "!pip install git+https://github.com/TencentARC/GFPGAN#egg=GFPGAN\n",
        "!git clone https://github.com/shariqfarooq123/AdaBins.git\n",
        "!git clone https://github.com/isl-org/MiDaS.git\n",
        "!git clone https://github.com/MSFTserver/pytorch3d-lite.git\n",
        "!wget -N https://raw.githubusercontent.com/XmYx/waifu-diffusion-gradio-hosted-by-colab-en/main/anim/gradio_anim_01.py -P /content/stable-diffusion/scripts\n",
        "!git clone https://github.com/deforum/k-diffusion/\n",
        "!pip install -e /content/k-diffusion\n",
        "!pip install -e git+https://github.com/CompVis/taming-transformers.git@master#egg=taming-transformers\n",
        "!pip install -e git+https://github.com/openai/CLIP.git@main#egg=clip\n",
        "!pip install accelerate ftfy jsonmerge matplotlib resize-right timm torchdiffeq\n",
        "!pip install -e git+https://github.com/xinntao/Real-ESRGAN#egg=realesrgan\n",
        "!rm -r /content/stable-diffusion-gradio-anim-opt\n",
        "%cd /content/\n",
        "!git clone https://github.com/XmYx/stable-diffusion-gradio-anim-opt\n",
        "!pip install -e /content/stable-diffusion-gradio-anim-opt\n",
        "!pip install fire\n",
        "%mkdir /content/soup\n",
        "!wget -q --show-progress --no-cache --backups=1 'https://raw.githubusercontent.com/WASasquatch/noodle-soup-prompts/main/nsp_pantry.py' -P /content/soup"
      ],
      "metadata": {
        "id": "sokicrNdnDAT",
        "cellView": "form"
      },
      "execution_count": null,
      "outputs": []
    },
    {
      "cell_type": "code",
      "source": [
        "#@markdown **Stable Diffusion Model Directory: (no filename)**\n",
        "\n",
        "stable_diffusion_models_path = \"/gdrive/MyDrive/\" #@param {type:\"string\"}\n",
        "\n",
        "#@markdown **Skip Variations Model (Optional)**\n",
        "\n",
        "skip_variations = True #@param {type:\"boolean\"}\n",
        "\n",
        "#@markdown **Variations Model File (with filename) (Optional)**\n",
        "\n",
        "variations_model_file = \"/gdrive/MyDrive/sd-clip-vit-l14-img-embed_ema_only.ckpt\" #@param {type:\"string\"}\n",
        "\n",
        "\n",
        "if skip_variations == True:\n",
        "  skip_var = \"--no_var True\"\n",
        "else:\n",
        "  skip_var = f\"--var_ckpt {variations_model_file}\"\n",
        "\n",
        "START = f\"--ckpt {stable_diffusion_models_path} {skip_var}\"\n",
        "\n",
        "get_ipython().system_raw('./ngrok http 7860 &')\n",
        "%cd /content/\n",
        "!python3 /content/stable-diffusion-gradio-anim-opt/anim/variations_test.py {START}"
      ],
      "metadata": {
        "cellView": "form",
        "id": "plItZPiKnyPc"
      },
      "execution_count": null,
      "outputs": []
    }
  ],
  "metadata": {
    "accelerator": "GPU",
    "colab": {
      "background_execution": "on",
      "collapsed_sections": [],
      "machine_shape": "hm",
      "provenance": [],
      "include_colab_link": true
    },
    "gpuClass": "standard",
    "kernelspec": {
      "display_name": "Python 3",
      "name": "python3"
    },
    "language_info": {
      "name": "python"
    }
  },
  "nbformat": 4,
  "nbformat_minor": 0
}
